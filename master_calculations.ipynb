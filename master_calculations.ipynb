{
 "cells": [
  {
   "cell_type": "markdown",
   "id": "2fa28fec-d5d7-425f-80f7-b07158469676",
   "metadata": {},
   "source": [
    "### Does Bilingualism affect the Inhibition Deficit and the Aging effect on the elderly?"
   ]
  },
  {
   "cell_type": "markdown",
   "id": "7b4a74d5-1e0e-417c-8446-ab5cbf4cef26",
   "metadata": {},
   "source": [
    "#### Abstract"
   ]
  },
  {
   "cell_type": "code",
   "execution_count": null,
   "id": "02e04fc9-c0dc-438f-8d5e-9edc2d21775e",
   "metadata": {},
   "outputs": [],
   "source": []
  },
  {
   "cell_type": "markdown",
   "id": "fcc55234-81bf-4231-a8a4-c5ec996673e6",
   "metadata": {},
   "source": [
    "#### Introduction"
   ]
  },
  {
   "cell_type": "code",
   "execution_count": null,
   "id": "1d6669df-fbf8-44cb-9679-fc4aa71342a6",
   "metadata": {},
   "outputs": [],
   "source": []
  },
  {
   "cell_type": "markdown",
   "id": "b9b09496-be7b-4efc-ba7b-a2dfc70066af",
   "metadata": {},
   "source": [
    "##### Pacages Imported to perform the different Statistical tests, analyses, and graphs"
   ]
  },
  {
   "cell_type": "code",
   "execution_count": 5,
   "id": "99e7ea39-73a2-4850-a3f4-a8ecfd36318a",
   "metadata": {},
   "outputs": [
    {
     "name": "stdout",
     "output_type": "stream",
     "text": [
      "Requirement already satisfied: openpyxl in c:\\users\\krist\\anaconda3\\lib\\site-packages (3.1.5)\n",
      "Requirement already satisfied: et-xmlfile in c:\\users\\krist\\anaconda3\\lib\\site-packages (from openpyxl) (1.1.0)\n",
      "Requirement already satisfied: scikit-posthocs in c:\\users\\krist\\anaconda3\\lib\\site-packages (0.11.2)\n",
      "Requirement already satisfied: numpy in c:\\users\\krist\\anaconda3\\lib\\site-packages (from scikit-posthocs) (1.26.4)\n",
      "Requirement already satisfied: scipy>=1.9.0 in c:\\users\\krist\\anaconda3\\lib\\site-packages (from scikit-posthocs) (1.13.1)\n",
      "Requirement already satisfied: statsmodels in c:\\users\\krist\\anaconda3\\lib\\site-packages (from scikit-posthocs) (0.14.2)\n",
      "Requirement already satisfied: pandas>=0.20.0 in c:\\users\\krist\\anaconda3\\lib\\site-packages (from scikit-posthocs) (2.2.2)\n",
      "Requirement already satisfied: seaborn in c:\\users\\krist\\anaconda3\\lib\\site-packages (from scikit-posthocs) (0.13.2)\n",
      "Requirement already satisfied: matplotlib in c:\\users\\krist\\anaconda3\\lib\\site-packages (from scikit-posthocs) (3.9.2)\n",
      "Requirement already satisfied: python-dateutil>=2.8.2 in c:\\users\\krist\\anaconda3\\lib\\site-packages (from pandas>=0.20.0->scikit-posthocs) (2.9.0.post0)\n",
      "Requirement already satisfied: pytz>=2020.1 in c:\\users\\krist\\anaconda3\\lib\\site-packages (from pandas>=0.20.0->scikit-posthocs) (2024.1)\n",
      "Requirement already satisfied: tzdata>=2022.7 in c:\\users\\krist\\anaconda3\\lib\\site-packages (from pandas>=0.20.0->scikit-posthocs) (2023.3)\n",
      "Requirement already satisfied: contourpy>=1.0.1 in c:\\users\\krist\\anaconda3\\lib\\site-packages (from matplotlib->scikit-posthocs) (1.2.0)\n",
      "Requirement already satisfied: cycler>=0.10 in c:\\users\\krist\\anaconda3\\lib\\site-packages (from matplotlib->scikit-posthocs) (0.11.0)\n",
      "Requirement already satisfied: fonttools>=4.22.0 in c:\\users\\krist\\anaconda3\\lib\\site-packages (from matplotlib->scikit-posthocs) (4.51.0)\n",
      "Requirement already satisfied: kiwisolver>=1.3.1 in c:\\users\\krist\\anaconda3\\lib\\site-packages (from matplotlib->scikit-posthocs) (1.4.4)\n",
      "Requirement already satisfied: packaging>=20.0 in c:\\users\\krist\\anaconda3\\lib\\site-packages (from matplotlib->scikit-posthocs) (24.1)\n",
      "Requirement already satisfied: pillow>=8 in c:\\users\\krist\\anaconda3\\lib\\site-packages (from matplotlib->scikit-posthocs) (10.4.0)\n",
      "Requirement already satisfied: pyparsing>=2.3.1 in c:\\users\\krist\\anaconda3\\lib\\site-packages (from matplotlib->scikit-posthocs) (3.1.2)\n",
      "Requirement already satisfied: patsy>=0.5.6 in c:\\users\\krist\\anaconda3\\lib\\site-packages (from statsmodels->scikit-posthocs) (0.5.6)\n",
      "Requirement already satisfied: six in c:\\users\\krist\\anaconda3\\lib\\site-packages (from patsy>=0.5.6->statsmodels->scikit-posthocs) (1.16.0)\n",
      "Requirement already satisfied: pingouin in c:\\users\\krist\\anaconda3\\lib\\site-packages (0.5.5)\n",
      "Requirement already satisfied: matplotlib in c:\\users\\krist\\anaconda3\\lib\\site-packages (from pingouin) (3.9.2)\n",
      "Requirement already satisfied: numpy in c:\\users\\krist\\anaconda3\\lib\\site-packages (from pingouin) (1.26.4)\n",
      "Requirement already satisfied: pandas>=1.5 in c:\\users\\krist\\anaconda3\\lib\\site-packages (from pingouin) (2.2.2)\n",
      "Requirement already satisfied: pandas-flavor in c:\\users\\krist\\anaconda3\\lib\\site-packages (from pingouin) (0.6.0)\n",
      "Requirement already satisfied: scikit-learn>=1.2 in c:\\users\\krist\\anaconda3\\lib\\site-packages (from pingouin) (1.5.1)\n",
      "Requirement already satisfied: scipy in c:\\users\\krist\\anaconda3\\lib\\site-packages (from pingouin) (1.13.1)\n",
      "Requirement already satisfied: seaborn in c:\\users\\krist\\anaconda3\\lib\\site-packages (from pingouin) (0.13.2)\n",
      "Requirement already satisfied: statsmodels in c:\\users\\krist\\anaconda3\\lib\\site-packages (from pingouin) (0.14.2)\n",
      "Requirement already satisfied: tabulate in c:\\users\\krist\\anaconda3\\lib\\site-packages (from pingouin) (0.9.0)\n",
      "Requirement already satisfied: python-dateutil>=2.8.2 in c:\\users\\krist\\anaconda3\\lib\\site-packages (from pandas>=1.5->pingouin) (2.9.0.post0)\n",
      "Requirement already satisfied: pytz>=2020.1 in c:\\users\\krist\\anaconda3\\lib\\site-packages (from pandas>=1.5->pingouin) (2024.1)\n",
      "Requirement already satisfied: tzdata>=2022.7 in c:\\users\\krist\\anaconda3\\lib\\site-packages (from pandas>=1.5->pingouin) (2023.3)\n",
      "Requirement already satisfied: joblib>=1.2.0 in c:\\users\\krist\\anaconda3\\lib\\site-packages (from scikit-learn>=1.2->pingouin) (1.4.2)\n",
      "Requirement already satisfied: threadpoolctl>=3.1.0 in c:\\users\\krist\\anaconda3\\lib\\site-packages (from scikit-learn>=1.2->pingouin) (3.5.0)\n",
      "Requirement already satisfied: contourpy>=1.0.1 in c:\\users\\krist\\anaconda3\\lib\\site-packages (from matplotlib->pingouin) (1.2.0)\n",
      "Requirement already satisfied: cycler>=0.10 in c:\\users\\krist\\anaconda3\\lib\\site-packages (from matplotlib->pingouin) (0.11.0)\n",
      "Requirement already satisfied: fonttools>=4.22.0 in c:\\users\\krist\\anaconda3\\lib\\site-packages (from matplotlib->pingouin) (4.51.0)\n",
      "Requirement already satisfied: kiwisolver>=1.3.1 in c:\\users\\krist\\anaconda3\\lib\\site-packages (from matplotlib->pingouin) (1.4.4)\n",
      "Requirement already satisfied: packaging>=20.0 in c:\\users\\krist\\anaconda3\\lib\\site-packages (from matplotlib->pingouin) (24.1)\n",
      "Requirement already satisfied: pillow>=8 in c:\\users\\krist\\anaconda3\\lib\\site-packages (from matplotlib->pingouin) (10.4.0)\n",
      "Requirement already satisfied: pyparsing>=2.3.1 in c:\\users\\krist\\anaconda3\\lib\\site-packages (from matplotlib->pingouin) (3.1.2)\n",
      "Requirement already satisfied: xarray in c:\\users\\krist\\anaconda3\\lib\\site-packages (from pandas-flavor->pingouin) (2023.6.0)\n",
      "Requirement already satisfied: patsy>=0.5.6 in c:\\users\\krist\\anaconda3\\lib\\site-packages (from statsmodels->pingouin) (0.5.6)\n",
      "Requirement already satisfied: six in c:\\users\\krist\\anaconda3\\lib\\site-packages (from patsy>=0.5.6->statsmodels->pingouin) (1.16.0)\n"
     ]
    }
   ],
   "source": [
    "#install package to open and read excel sheets\n",
    "from pathlib import Path\n",
    "!pip install openpyxl\n",
    "\n",
    "# Installing package to perform Normality check (Shapiro-Wilk test)\n",
    "from scipy.stats import shapiro\n",
    "\n",
    "# Installing package to perform other Statistical analysis like Kruskal-Wallis test, and hypothesis testing \n",
    "import pandas as pd\n",
    "import scipy.stats as stats\n",
    "\n",
    "# Installing Scikit-posthocs package to perform post-hoc test\n",
    "!pip install scikit-posthocs\n",
    "\n",
    "# Installing to perform specific post-hoc test, Dunn's post-hoc test.\n",
    "import scikit_posthocs as sp\n",
    "import pandas as pd\n",
    "\n",
    "# Installing pingouin Library package to perform mixed-design ANOVA, and other Statistical analysis:\n",
    "!pip install pingouin\n",
    "import pingouin as pg\n",
    "import itertools\n",
    "\n",
    "# Installing package to create some visuals like error-bars.\n",
    "import seaborn as sns\n",
    "import matplotlib.pyplot as plt"
   ]
  },
  {
   "cell_type": "markdown",
   "id": "9fce4ef9-449c-4554-8317-497258ab1978",
   "metadata": {},
   "source": [
    "##### Pandas dataframe"
   ]
  },
  {
   "cell_type": "markdown",
   "id": "00dad669-4ce2-4c49-982c-7e524f8cffd3",
   "metadata": {},
   "source": [
    "In this pipeline we use mostly Pandas packaging. Pandas DataFrames offer a powerful and flexible structure for data manipulation and analysis. They enable efficient data cleaning, merging, reshaping, and summarization with concise, readable code—making complex data workflows accessible and reproducible, which is essential for robust scientific research."
   ]
  },
  {
   "cell_type": "markdown",
   "id": "86bc1ef5-b9f4-4bdb-ba89-ed3531cd49d3",
   "metadata": {},
   "source": [
    "##### Calculation Steps"
   ]
  },
  {
   "cell_type": "markdown",
   "id": "72c6ade8-3b5c-4586-a90f-bb274a319b63",
   "metadata": {},
   "source": [
    "- Upload the data:"
   ]
  },
  {
   "cell_type": "markdown",
   "id": "cfe9cf25-6d7b-4e49-8f9a-93128675c08d",
   "metadata": {},
   "source": [
    "1. Upload data from csv.\n",
    "   It was detected when we uploaded the data that the tables was showing separation by ; not ,\n",
    "   * had to define new sep as it was separated by ; not ,\n",
    "   * Data values were written with comma rather than dot. Therefore we needed to replace the commas with dots. Then python could automatically convert to float values we also used slicing to get the columns needed\n",
    "\n"
   ]
  },
  {
   "cell_type": "code",
   "execution_count": 11,
   "id": "d7a2607f-b238-464b-a86f-cba0c6677d51",
   "metadata": {},
   "outputs": [
    {
     "ename": "FileNotFoundError",
     "evalue": "[Errno 2] No such file or directory: 'C:\\\\github\\\\master_calculations\\\\data.csv'",
     "output_type": "error",
     "traceback": [
      "\u001b[1;31m---------------------------------------------------------------------------\u001b[0m",
      "\u001b[1;31mFileNotFoundError\u001b[0m                         Traceback (most recent call last)",
      "Cell \u001b[1;32mIn[11], line 1\u001b[0m\n\u001b[1;32m----> 1\u001b[0m emo_wide_df \u001b[38;5;241m=\u001b[39m pd\u001b[38;5;241m.\u001b[39mread_csv(Path(\u001b[38;5;124m\"\u001b[39m\u001b[38;5;124mC:\u001b[39m\u001b[38;5;130;01m\\\\\u001b[39;00m\u001b[38;5;124mgithub\u001b[39m\u001b[38;5;130;01m\\\\\u001b[39;00m\u001b[38;5;124mmaster_calculations\u001b[39m\u001b[38;5;130;01m\\\\\u001b[39;00m\u001b[38;5;124mdata.csv\u001b[39m\u001b[38;5;124m\"\u001b[39m), sep\u001b[38;5;241m=\u001b[39m\u001b[38;5;124m\"\u001b[39m\u001b[38;5;124m;\u001b[39m\u001b[38;5;124m\"\u001b[39m)\n\u001b[0;32m      2\u001b[0m stroop_wide_df \u001b[38;5;241m=\u001b[39m pd\u001b[38;5;241m.\u001b[39mread_csv(Path(\u001b[38;5;124m\"\u001b[39m\u001b[38;5;124mC:\u001b[39m\u001b[38;5;130;01m\\\\\u001b[39;00m\u001b[38;5;124mgithub\u001b[39m\u001b[38;5;130;01m\\\\\u001b[39;00m\u001b[38;5;124mmaster_calculations\u001b[39m\u001b[38;5;130;01m\\\\\u001b[39;00m\u001b[38;5;124mdata.csv\u001b[39m\u001b[38;5;124m\"\u001b[39m), sep\u001b[38;5;241m=\u001b[39m\u001b[38;5;124m\"\u001b[39m\u001b[38;5;124m;\u001b[39m\u001b[38;5;124m\"\u001b[39m)\n",
      "File \u001b[1;32m~\\anaconda3\\Lib\\site-packages\\pandas\\io\\parsers\\readers.py:1026\u001b[0m, in \u001b[0;36mread_csv\u001b[1;34m(filepath_or_buffer, sep, delimiter, header, names, index_col, usecols, dtype, engine, converters, true_values, false_values, skipinitialspace, skiprows, skipfooter, nrows, na_values, keep_default_na, na_filter, verbose, skip_blank_lines, parse_dates, infer_datetime_format, keep_date_col, date_parser, date_format, dayfirst, cache_dates, iterator, chunksize, compression, thousands, decimal, lineterminator, quotechar, quoting, doublequote, escapechar, comment, encoding, encoding_errors, dialect, on_bad_lines, delim_whitespace, low_memory, memory_map, float_precision, storage_options, dtype_backend)\u001b[0m\n\u001b[0;32m   1013\u001b[0m kwds_defaults \u001b[38;5;241m=\u001b[39m _refine_defaults_read(\n\u001b[0;32m   1014\u001b[0m     dialect,\n\u001b[0;32m   1015\u001b[0m     delimiter,\n\u001b[1;32m   (...)\u001b[0m\n\u001b[0;32m   1022\u001b[0m     dtype_backend\u001b[38;5;241m=\u001b[39mdtype_backend,\n\u001b[0;32m   1023\u001b[0m )\n\u001b[0;32m   1024\u001b[0m kwds\u001b[38;5;241m.\u001b[39mupdate(kwds_defaults)\n\u001b[1;32m-> 1026\u001b[0m \u001b[38;5;28;01mreturn\u001b[39;00m _read(filepath_or_buffer, kwds)\n",
      "File \u001b[1;32m~\\anaconda3\\Lib\\site-packages\\pandas\\io\\parsers\\readers.py:620\u001b[0m, in \u001b[0;36m_read\u001b[1;34m(filepath_or_buffer, kwds)\u001b[0m\n\u001b[0;32m    617\u001b[0m _validate_names(kwds\u001b[38;5;241m.\u001b[39mget(\u001b[38;5;124m\"\u001b[39m\u001b[38;5;124mnames\u001b[39m\u001b[38;5;124m\"\u001b[39m, \u001b[38;5;28;01mNone\u001b[39;00m))\n\u001b[0;32m    619\u001b[0m \u001b[38;5;66;03m# Create the parser.\u001b[39;00m\n\u001b[1;32m--> 620\u001b[0m parser \u001b[38;5;241m=\u001b[39m TextFileReader(filepath_or_buffer, \u001b[38;5;241m*\u001b[39m\u001b[38;5;241m*\u001b[39mkwds)\n\u001b[0;32m    622\u001b[0m \u001b[38;5;28;01mif\u001b[39;00m chunksize \u001b[38;5;129;01mor\u001b[39;00m iterator:\n\u001b[0;32m    623\u001b[0m     \u001b[38;5;28;01mreturn\u001b[39;00m parser\n",
      "File \u001b[1;32m~\\anaconda3\\Lib\\site-packages\\pandas\\io\\parsers\\readers.py:1620\u001b[0m, in \u001b[0;36mTextFileReader.__init__\u001b[1;34m(self, f, engine, **kwds)\u001b[0m\n\u001b[0;32m   1617\u001b[0m     \u001b[38;5;28mself\u001b[39m\u001b[38;5;241m.\u001b[39moptions[\u001b[38;5;124m\"\u001b[39m\u001b[38;5;124mhas_index_names\u001b[39m\u001b[38;5;124m\"\u001b[39m] \u001b[38;5;241m=\u001b[39m kwds[\u001b[38;5;124m\"\u001b[39m\u001b[38;5;124mhas_index_names\u001b[39m\u001b[38;5;124m\"\u001b[39m]\n\u001b[0;32m   1619\u001b[0m \u001b[38;5;28mself\u001b[39m\u001b[38;5;241m.\u001b[39mhandles: IOHandles \u001b[38;5;241m|\u001b[39m \u001b[38;5;28;01mNone\u001b[39;00m \u001b[38;5;241m=\u001b[39m \u001b[38;5;28;01mNone\u001b[39;00m\n\u001b[1;32m-> 1620\u001b[0m \u001b[38;5;28mself\u001b[39m\u001b[38;5;241m.\u001b[39m_engine \u001b[38;5;241m=\u001b[39m \u001b[38;5;28mself\u001b[39m\u001b[38;5;241m.\u001b[39m_make_engine(f, \u001b[38;5;28mself\u001b[39m\u001b[38;5;241m.\u001b[39mengine)\n",
      "File \u001b[1;32m~\\anaconda3\\Lib\\site-packages\\pandas\\io\\parsers\\readers.py:1880\u001b[0m, in \u001b[0;36mTextFileReader._make_engine\u001b[1;34m(self, f, engine)\u001b[0m\n\u001b[0;32m   1878\u001b[0m     \u001b[38;5;28;01mif\u001b[39;00m \u001b[38;5;124m\"\u001b[39m\u001b[38;5;124mb\u001b[39m\u001b[38;5;124m\"\u001b[39m \u001b[38;5;129;01mnot\u001b[39;00m \u001b[38;5;129;01min\u001b[39;00m mode:\n\u001b[0;32m   1879\u001b[0m         mode \u001b[38;5;241m+\u001b[39m\u001b[38;5;241m=\u001b[39m \u001b[38;5;124m\"\u001b[39m\u001b[38;5;124mb\u001b[39m\u001b[38;5;124m\"\u001b[39m\n\u001b[1;32m-> 1880\u001b[0m \u001b[38;5;28mself\u001b[39m\u001b[38;5;241m.\u001b[39mhandles \u001b[38;5;241m=\u001b[39m get_handle(\n\u001b[0;32m   1881\u001b[0m     f,\n\u001b[0;32m   1882\u001b[0m     mode,\n\u001b[0;32m   1883\u001b[0m     encoding\u001b[38;5;241m=\u001b[39m\u001b[38;5;28mself\u001b[39m\u001b[38;5;241m.\u001b[39moptions\u001b[38;5;241m.\u001b[39mget(\u001b[38;5;124m\"\u001b[39m\u001b[38;5;124mencoding\u001b[39m\u001b[38;5;124m\"\u001b[39m, \u001b[38;5;28;01mNone\u001b[39;00m),\n\u001b[0;32m   1884\u001b[0m     compression\u001b[38;5;241m=\u001b[39m\u001b[38;5;28mself\u001b[39m\u001b[38;5;241m.\u001b[39moptions\u001b[38;5;241m.\u001b[39mget(\u001b[38;5;124m\"\u001b[39m\u001b[38;5;124mcompression\u001b[39m\u001b[38;5;124m\"\u001b[39m, \u001b[38;5;28;01mNone\u001b[39;00m),\n\u001b[0;32m   1885\u001b[0m     memory_map\u001b[38;5;241m=\u001b[39m\u001b[38;5;28mself\u001b[39m\u001b[38;5;241m.\u001b[39moptions\u001b[38;5;241m.\u001b[39mget(\u001b[38;5;124m\"\u001b[39m\u001b[38;5;124mmemory_map\u001b[39m\u001b[38;5;124m\"\u001b[39m, \u001b[38;5;28;01mFalse\u001b[39;00m),\n\u001b[0;32m   1886\u001b[0m     is_text\u001b[38;5;241m=\u001b[39mis_text,\n\u001b[0;32m   1887\u001b[0m     errors\u001b[38;5;241m=\u001b[39m\u001b[38;5;28mself\u001b[39m\u001b[38;5;241m.\u001b[39moptions\u001b[38;5;241m.\u001b[39mget(\u001b[38;5;124m\"\u001b[39m\u001b[38;5;124mencoding_errors\u001b[39m\u001b[38;5;124m\"\u001b[39m, \u001b[38;5;124m\"\u001b[39m\u001b[38;5;124mstrict\u001b[39m\u001b[38;5;124m\"\u001b[39m),\n\u001b[0;32m   1888\u001b[0m     storage_options\u001b[38;5;241m=\u001b[39m\u001b[38;5;28mself\u001b[39m\u001b[38;5;241m.\u001b[39moptions\u001b[38;5;241m.\u001b[39mget(\u001b[38;5;124m\"\u001b[39m\u001b[38;5;124mstorage_options\u001b[39m\u001b[38;5;124m\"\u001b[39m, \u001b[38;5;28;01mNone\u001b[39;00m),\n\u001b[0;32m   1889\u001b[0m )\n\u001b[0;32m   1890\u001b[0m \u001b[38;5;28;01massert\u001b[39;00m \u001b[38;5;28mself\u001b[39m\u001b[38;5;241m.\u001b[39mhandles \u001b[38;5;129;01mis\u001b[39;00m \u001b[38;5;129;01mnot\u001b[39;00m \u001b[38;5;28;01mNone\u001b[39;00m\n\u001b[0;32m   1891\u001b[0m f \u001b[38;5;241m=\u001b[39m \u001b[38;5;28mself\u001b[39m\u001b[38;5;241m.\u001b[39mhandles\u001b[38;5;241m.\u001b[39mhandle\n",
      "File \u001b[1;32m~\\anaconda3\\Lib\\site-packages\\pandas\\io\\common.py:873\u001b[0m, in \u001b[0;36mget_handle\u001b[1;34m(path_or_buf, mode, encoding, compression, memory_map, is_text, errors, storage_options)\u001b[0m\n\u001b[0;32m    868\u001b[0m \u001b[38;5;28;01melif\u001b[39;00m \u001b[38;5;28misinstance\u001b[39m(handle, \u001b[38;5;28mstr\u001b[39m):\n\u001b[0;32m    869\u001b[0m     \u001b[38;5;66;03m# Check whether the filename is to be opened in binary mode.\u001b[39;00m\n\u001b[0;32m    870\u001b[0m     \u001b[38;5;66;03m# Binary mode does not support 'encoding' and 'newline'.\u001b[39;00m\n\u001b[0;32m    871\u001b[0m     \u001b[38;5;28;01mif\u001b[39;00m ioargs\u001b[38;5;241m.\u001b[39mencoding \u001b[38;5;129;01mand\u001b[39;00m \u001b[38;5;124m\"\u001b[39m\u001b[38;5;124mb\u001b[39m\u001b[38;5;124m\"\u001b[39m \u001b[38;5;129;01mnot\u001b[39;00m \u001b[38;5;129;01min\u001b[39;00m ioargs\u001b[38;5;241m.\u001b[39mmode:\n\u001b[0;32m    872\u001b[0m         \u001b[38;5;66;03m# Encoding\u001b[39;00m\n\u001b[1;32m--> 873\u001b[0m         handle \u001b[38;5;241m=\u001b[39m \u001b[38;5;28mopen\u001b[39m(\n\u001b[0;32m    874\u001b[0m             handle,\n\u001b[0;32m    875\u001b[0m             ioargs\u001b[38;5;241m.\u001b[39mmode,\n\u001b[0;32m    876\u001b[0m             encoding\u001b[38;5;241m=\u001b[39mioargs\u001b[38;5;241m.\u001b[39mencoding,\n\u001b[0;32m    877\u001b[0m             errors\u001b[38;5;241m=\u001b[39merrors,\n\u001b[0;32m    878\u001b[0m             newline\u001b[38;5;241m=\u001b[39m\u001b[38;5;124m\"\u001b[39m\u001b[38;5;124m\"\u001b[39m,\n\u001b[0;32m    879\u001b[0m         )\n\u001b[0;32m    880\u001b[0m     \u001b[38;5;28;01melse\u001b[39;00m:\n\u001b[0;32m    881\u001b[0m         \u001b[38;5;66;03m# Binary mode\u001b[39;00m\n\u001b[0;32m    882\u001b[0m         handle \u001b[38;5;241m=\u001b[39m \u001b[38;5;28mopen\u001b[39m(handle, ioargs\u001b[38;5;241m.\u001b[39mmode)\n",
      "\u001b[1;31mFileNotFoundError\u001b[0m: [Errno 2] No such file or directory: 'C:\\\\github\\\\master_calculations\\\\data.csv'"
     ]
    }
   ],
   "source": [
    "emo_wide_df = pd.read_csv(Path(\"C:\\\\github\\\\master_calculations\\\\data.csv\"), sep=\";\")\n",
    "stroop_wide_df = pd.read_csv(Path(\"C:\\\\github\\\\master_calculations\\\\data.csv\"), sep=\";\")"
   ]
  },
  {
   "cell_type": "markdown",
   "id": "efed7090-655d-4231-8636-00616d62f95b",
   "metadata": {},
   "source": [
    "- Open files:"
   ]
  },
  {
   "cell_type": "markdown",
   "id": "1e21c00d-49f0-4c12-a32c-1efac2c7b109",
   "metadata": {},
   "source": [
    "Classical Stroop "
   ]
  },
  {
   "cell_type": "code",
   "execution_count": null,
   "id": "48320315-0950-4ba8-915a-b232b5b4af01",
   "metadata": {},
   "outputs": [],
   "source": [
    "stroop_wide_df"
   ]
  },
  {
   "cell_type": "markdown",
   "id": "d74b0be6-ebca-4e4b-a095-e8be26c12f7a",
   "metadata": {},
   "source": [
    "Emotional Stroop"
   ]
  },
  {
   "cell_type": "code",
   "execution_count": null,
   "id": "38e42ce9-3e9f-44d9-845d-b27e2e216140",
   "metadata": {},
   "outputs": [],
   "source": [
    "emo_wide_df"
   ]
  },
  {
   "cell_type": "code",
   "execution_count": null,
   "id": "6b95c014-a130-4aeb-861e-9f997f3ea6b1",
   "metadata": {},
   "outputs": [],
   "source": [
    "#making a function to convert the commas into dots on both dataframes, seperately\n",
    "def fix_decimal_commas(df, skip_first=True):\n",
    "    start = 1 if skip_first else 0\n",
    "    # Work on a copy of the numeric-ish part\n",
    "    part = df.iloc[:, start:].astype(str)\n",
    "    # Only touch cells that actually have a comma\n",
    "    mask = part.applymap(lambda x: isinstance(x, str) and (\",\" in x))\n",
    "    # Replace commas with dots where needed\n",
    "    part = part.where(~mask, part.where(mask, None).str.replace(\",\", \".\", regex=False))\n",
    "    # Convert to numeric where possible\n",
    "    part = part.apply(pd.to_numeric, errors=\"coerce\")\n",
    "    # Put back\n",
    "    df.iloc[:, start:] = part\n",
    "    return df\n",
    "\n",
    "# Use them SEPARATELY (no mixing, no merging):\n",
    "stroop_wide_df = fix_decimal_commas(stroop_wide_df, skip_first=True)\n",
    "emo_wide_df    = fix_decimal_commas(emo_wide_df,    skip_first=True)\n"
   ]
  },
  {
   "cell_type": "code",
   "execution_count": null,
   "id": "b2cc0893-d7d9-46c4-9e0c-c6a5aa953b8d",
   "metadata": {},
   "outputs": [],
   "source": [
    "# Confirm types look right\n",
    "stroop_wide_df.dtypes.head(12)\n",
    "emo_wide_df.dtypes.head(12)"
   ]
  },
  {
   "cell_type": "code",
   "execution_count": null,
   "id": "128bab90-c1ab-479a-8ce6-fcef9923013c",
   "metadata": {},
   "outputs": [],
   "source": [
    "# See if any NaNs appeared after conversion (e.g., non-numeric text)\n",
    "stroop_wide_df.isna().sum().sort_values(ascending=False).head(10)\n",
    "emo_wide_df.isna().sum().sort_values(ascending=False).head(10)"
   ]
  },
  {
   "cell_type": "code",
   "execution_count": null,
   "id": "979e1a5c-0fcf-48a9-9aea-a0de54b7478b",
   "metadata": {},
   "outputs": [],
   "source": [
    "stroop_wide_df[\"participant_id\"] = stroop_wide_df[\"participant_id\"].astype(str)"
   ]
  },
  {
   "cell_type": "code",
   "execution_count": null,
   "id": "6e63f222-e87b-444f-bdc0-2fd2d2cf2470",
   "metadata": {},
   "outputs": [],
   "source": [
    "emo_wide_df.describe()"
   ]
  },
  {
   "cell_type": "code",
   "execution_count": null,
   "id": "07980200-d825-4260-afec-c416306e6622",
   "metadata": {},
   "outputs": [],
   "source": [
    "stroop_wide_df.describe ()"
   ]
  },
  {
   "cell_type": "code",
   "execution_count": null,
   "id": "d4f6d547-1fd5-45de-9563-3b6ff909793e",
   "metadata": {},
   "outputs": [],
   "source": [
    "#participants_df = pd.read_excel(Path(\"C:\\github\\master_calculations\\data\\p_details.cvs\"), engine=\"openpyxl\", header=1)[[\"participant_ID\", \"age\", \"sex\"]]\n",
    "\n",
    "details_df = pd.read_excel(Path(\"C:\\github\\master_calculations\\data\\p_details.cvs\"), engine=\"openpyxl\", header=1)[[\"participant_ID\", \"age\", \"sex\"]]\n"
   ]
  },
  {
   "cell_type": "code",
   "execution_count": null,
   "id": "bffc9f63-2964-4728-a24f-a0b3776f9443",
   "metadata": {},
   "outputs": [],
   "source": []
  }
 ],
 "metadata": {
  "kernelspec": {
   "display_name": "Python [conda env:base] *",
   "language": "python",
   "name": "conda-base-py"
  },
  "language_info": {
   "codemirror_mode": {
    "name": "ipython",
    "version": 3
   },
   "file_extension": ".py",
   "mimetype": "text/x-python",
   "name": "python",
   "nbconvert_exporter": "python",
   "pygments_lexer": "ipython3",
   "version": "3.12.7"
  }
 },
 "nbformat": 4,
 "nbformat_minor": 5
}
